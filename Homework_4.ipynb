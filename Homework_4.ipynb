{
  "nbformat": 4,
  "nbformat_minor": 0,
  "metadata": {
    "colab": {
      "name": "Homework 4.ipynb",
      "version": "0.3.2",
      "provenance": [],
      "collapsed_sections": []
    },
    "kernelspec": {
      "name": "python3",
      "display_name": "Python 3"
    },
    "accelerator": "GPU"
  },
  "cells": [
    {
      "metadata": {
        "id": "_OSMDXPy8M7C",
        "colab_type": "text"
      },
      "cell_type": "markdown",
      "source": [
        "# HW 4 - All About Attention"
      ]
    },
    {
      "metadata": {
        "id": "Zz5Kh9F0xBVf",
        "colab_type": "text"
      },
      "cell_type": "markdown",
      "source": [
        "Welcome to CS 287 HW4. To begin this assignment first turn on the Python 3 and GPU backend for this Colab by clicking `Runtime > Change Runtime Type` above.  "
      ]
    },
    {
      "metadata": {
        "id": "MiugnUMt8M7E",
        "colab_type": "text"
      },
      "cell_type": "markdown",
      "source": [
        "In this homework you will be reproducing the decomposable attention model in Parikh et al. https://aclweb.org/anthology/D16-1244. (This is one of the models that inspired development of the transformer). \n",
        "\n",
        "\n",
        "\n",
        "## Goal\n",
        "\n",
        "We ask that you finish the following goals in PyTorch:\n",
        "\n",
        "1. Implement the vanilla decomposable attention model as described in that paper.\n",
        "2. Implement the decomposable attention model with intra attention or another extension.\n",
        "3. Visualize the attentions in the above two parts.\n",
        "4. Implement a mixture of models with uniform prior and perform training with exact log marginal likelihood (see below for detailed instructions)\n",
        "5. Train the mixture of models in part 4 with VAE. (This may not produce a better model, this is still a research area) \n",
        "6. Interpret which component specializes at which type of tasks using the posterior.\n",
        "\n",
        "Consult the paper for model architecture and hyperparameters, but you are also allowed to tune the hyperparameters yourself. "
      ]
    },
    {
      "metadata": {
        "id": "iG0DhOyL8M7E",
        "colab_type": "text"
      },
      "cell_type": "markdown",
      "source": [
        "## Setup\n",
        "\n",
        "This notebook provides a working definition of the setup of the problem itself. You may construct your models inline or use an external setup (preferred) to build your system."
      ]
    },
    {
      "metadata": {
        "id": "-iEe85198M7F",
        "colab_type": "code",
        "outputId": "6e6f60f3-3088-46f2-e30e-32a5a0e0240b",
        "colab": {
          "base_uri": "https://localhost:8080/",
          "height": 34
        }
      },
      "cell_type": "code",
      "source": [
        "!pip install -q torch torchtext opt_einsum git+https://github.com/harvardnlp/namedtensor"
      ],
      "execution_count": 0,
      "outputs": [
        {
          "output_type": "stream",
          "text": [
            "  Building wheel for namedtensor (setup.py) ... \u001b[?25ldone\n",
            "\u001b[?25h"
          ],
          "name": "stdout"
        }
      ]
    },
    {
      "metadata": {
        "id": "eHTkeBl-8M7I",
        "colab_type": "code",
        "colab": {}
      },
      "cell_type": "code",
      "source": [
        "import torch\n",
        "# Text text processing library and methods for pretrained word embeddings\n",
        "import torchtext\n",
        "from torchtext.vocab import Vectors, GloVe\n",
        "\n",
        "# Named Tensor wrappers\n",
        "from namedtensor import ntorch, NamedTensor\n",
        "from namedtensor.text import NamedField"
      ],
      "execution_count": 0,
      "outputs": []
    },
    {
      "metadata": {
        "id": "KE37lf0u8M7L",
        "colab_type": "text"
      },
      "cell_type": "markdown",
      "source": [
        "The dataset we will use of this problem is known as the Stanford Natural Language Inference (SNLI) Corpus ( https://nlp.stanford.edu/projects/snli/ ). It is collection of 570k English sentence pairs with relationships entailment, contradiction, or neutral, supporting the task of natural language inference (NLI). "
      ]
    },
    {
      "metadata": {
        "id": "JXlrvClg8M7M",
        "colab_type": "text"
      },
      "cell_type": "markdown",
      "source": [
        "To start, `torchtext` requires that we define a mapping from the raw text data to featurized indices. These fields make it easy to map back and forth between readable data and math, which helps for debugging."
      ]
    },
    {
      "metadata": {
        "id": "YbZiWCz18M7M",
        "colab_type": "code",
        "colab": {}
      },
      "cell_type": "code",
      "source": [
        "# Our input $x$\n",
        "TEXT = NamedField(names=('seqlen',))\n",
        "\n",
        "# Our labels $y$\n",
        "LABEL = NamedField(sequential=False, names=())"
      ],
      "execution_count": 0,
      "outputs": []
    },
    {
      "metadata": {
        "id": "rYweUw-h8M7Q",
        "colab_type": "text"
      },
      "cell_type": "markdown",
      "source": [
        "Next we input our data. Here we will use the standard SNLI train split, and tell it the fields."
      ]
    },
    {
      "metadata": {
        "id": "JQcxFoh88M7R",
        "colab_type": "code",
        "colab": {}
      },
      "cell_type": "code",
      "source": [
        "train, val, test = torchtext.datasets.SNLI.splits(\n",
        "    TEXT, LABEL)"
      ],
      "execution_count": 0,
      "outputs": []
    },
    {
      "metadata": {
        "id": "vJOFyfYT8M7V",
        "colab_type": "text"
      },
      "cell_type": "markdown",
      "source": [
        "Let's look at this data. It's still in its original form, we can see that each example consists of a premise, a hypothesis and a label."
      ]
    },
    {
      "metadata": {
        "id": "vDgwcxmh8M7W",
        "colab_type": "code",
        "outputId": "816b3dc6-2dde-4dce-f8eb-5dab9b2a14b8",
        "colab": {
          "base_uri": "https://localhost:8080/",
          "height": 72
        }
      },
      "cell_type": "code",
      "source": [
        "print('len(train)', len(train))\n",
        "print('vars(train[0])', vars(train[0]))"
      ],
      "execution_count": 0,
      "outputs": [
        {
          "output_type": "stream",
          "text": [
            "len(train) 549367\n",
            "vars(train[0]) {'premise': ['A', 'person', 'on', 'a', 'horse', 'jumps', 'over', 'a', 'broken', 'down', 'airplane.'], 'hypothesis': ['A', 'person', 'is', 'training', 'his', 'horse', 'for', 'a', 'competition.'], 'label': 'neutral'}\n"
          ],
          "name": "stdout"
        }
      ]
    },
    {
      "metadata": {
        "id": "_Tcw37Xr8M7b",
        "colab_type": "text"
      },
      "cell_type": "markdown",
      "source": [
        "In order to map this data to features, we need to assign an index to each word an label. The function build vocab allows us to do this and provides useful options that we will need in future assignments."
      ]
    },
    {
      "metadata": {
        "id": "otfqiXh98M7b",
        "colab_type": "code",
        "outputId": "750a1094-1260-415a-baba-afa03f97f63f",
        "colab": {
          "base_uri": "https://localhost:8080/",
          "height": 52
        }
      },
      "cell_type": "code",
      "source": [
        "TEXT.build_vocab(train)\n",
        "LABEL.build_vocab(train)\n",
        "print('len(TEXT.vocab)', len(TEXT.vocab))\n",
        "print('LABEL.vocab', LABEL.vocab)"
      ],
      "execution_count": 0,
      "outputs": [
        {
          "output_type": "stream",
          "text": [
            "len(TEXT.vocab) 62998\n",
            "len(LABEL.vocab) 4\n"
          ],
          "name": "stdout"
        }
      ]
    },
    {
      "metadata": {
        "id": "_dBj-iHi8M7f",
        "colab_type": "text"
      },
      "cell_type": "markdown",
      "source": [
        "Finally we are ready to create batches of our training data that can be used for training and validating the model. This function produces 3 iterators that will let us go through the train, val and test data. "
      ]
    },
    {
      "metadata": {
        "id": "FV-CSDuX8M7g",
        "colab_type": "code",
        "colab": {}
      },
      "cell_type": "code",
      "source": [
        "train_iter, val_iter, test_iter = torchtext.data.BucketIterator.splits(\n",
        "    (train, val, test), batch_size=16, device=torch.device(\"cuda\"), repeat=False)"
      ],
      "execution_count": 0,
      "outputs": []
    },
    {
      "metadata": {
        "id": "XpXAKSbA8M7i",
        "colab_type": "text"
      },
      "cell_type": "markdown",
      "source": [
        "Let's look at a single batch from one of these iterators."
      ]
    },
    {
      "metadata": {
        "id": "dcsZVvaG8M7j",
        "colab_type": "code",
        "outputId": "5e01b79e-c0d9-43e1-c5ff-032e049578a4",
        "colab": {
          "base_uri": "https://localhost:8080/",
          "height": 263
        }
      },
      "cell_type": "code",
      "source": [
        "batch = next(iter(train_iter))\n",
        "print(\"Size of premise batch:\", batch.premise.shape)\n",
        "print(\"Size of hypothesis batch:\", batch.hypothesis.shape)\n",
        "premise = batch.premise.get(\"batch\", 1)\n",
        "print(\"Second premise in batch\", premise)\n",
        "print(\"Converted back to string:\", \" \".join([TEXT.vocab.itos[i] for i in premise.tolist()]))\n",
        "hypothesis = batch.hypothesis.get(\"batch\", 1)\n",
        "print(\"Second hypothesis in batch\", hypothesis)\n",
        "print(\"Converted back to string:\", \" \".join([TEXT.vocab.itos[i] for i in hypothesis.tolist()]))"
      ],
      "execution_count": 0,
      "outputs": [
        {
          "output_type": "stream",
          "text": [
            "Size of premise batch: OrderedDict([('seqlen', 25), ('batch', 10)])\n",
            "Size of hypothesis batch: OrderedDict([('seqlen', 11), ('batch', 10)])\n",
            "Second premise in batch NamedTensor(\n",
            "\ttensor([  53, 1899, 1494,    7,    5,   34,   59,   11,    2,   66, 2167,  292,\n",
            "           1,    1,    1,    1,    1,    1,    1,    1,    1,    1,    1,    1,\n",
            "           1], device='cuda:0'),\n",
            "\t('seqlen',))\n",
            "Converted back to string: An african american man is standing outside of a yellow repair store. <pad> <pad> <pad> <pad> <pad> <pad> <pad> <pad> <pad> <pad> <pad> <pad> <pad>\n",
            "Second hypothesis in batch NamedTensor(\n",
            "\ttensor([  3,   7,   5, 135,  36,  20, 152,   1,   1,   1,   1],\n",
            "       device='cuda:0'),\n",
            "\t('seqlen',))\n",
            "Converted back to string: A man is waiting for his car <pad> <pad> <pad> <pad>\n"
          ],
          "name": "stdout"
        }
      ]
    },
    {
      "metadata": {
        "id": "LJxDYWUp8M7m",
        "colab_type": "text"
      },
      "cell_type": "markdown",
      "source": [
        "Similarly it produces a vector for each of the labels in the batch. "
      ]
    },
    {
      "metadata": {
        "id": "k_DcwMRh8M7m",
        "colab_type": "code",
        "outputId": "80f746d7-091a-4e98-a976-90cd0e6ac962",
        "colab": {
          "base_uri": "https://localhost:8080/",
          "height": 69
        }
      },
      "cell_type": "code",
      "source": [
        "print(\"Size of label batch:\", batch.label.shape)\n",
        "example = batch.label.get(\"batch\", 1)\n",
        "print(\"Second in batch\", example.item())\n",
        "print(\"Converted back to string:\", LABEL.vocab.itos[example.item()])"
      ],
      "execution_count": 0,
      "outputs": [
        {
          "output_type": "stream",
          "text": [
            "Size of label batch: OrderedDict([('batch', 10)])\n",
            "Second in batch 3\n",
            "Converted back to string: neutral\n"
          ],
          "name": "stdout"
        }
      ]
    },
    {
      "metadata": {
        "id": "RgbiW5PP8M7r",
        "colab_type": "text"
      },
      "cell_type": "markdown",
      "source": [
        "Finally the Vocab object can be used to map pretrained word vectors to the indices in the vocabulary.  "
      ]
    },
    {
      "metadata": {
        "id": "4ZVfhI6x8M7s",
        "colab_type": "code",
        "outputId": "4d682ca2-7525-4e63-fae9-ab19b75f89a0",
        "colab": {
          "base_uri": "https://localhost:8080/",
          "height": 104
        }
      },
      "cell_type": "code",
      "source": [
        "# Build the vocabulary with word embeddings\n",
        "# Out-of-vocabulary (OOV) words are hashed to one of 100 random embeddings each\n",
        "# initialized to mean 0 and standarad deviation 1 (Sec 5.1)\n",
        "import random\n",
        "unk_vectors = [torch.randn(300) for _ in range(100)]\n",
        "TEXT.vocab.load_vectors(vectors='glove.6B.300d',\n",
        "                        unk_init=lambda x:random.choice(unk_vectors))\n",
        "# normalized to have l_2 norm of 1\n",
        "vectors = TEXT.vocab.vectors\n",
        "vectors = vectors / vectors.norm(dim=1,keepdim=True)\n",
        "vectors = NamedTensor(vectors, ('word', 'embedding'))\n",
        "TEXT.vocab.vectors = vectors\n",
        "print(\"Word embeddings shape:\", TEXT.vocab.vectors.shape)\n",
        "print(\"Word embedding of 'follows', first 10 dim \",\n",
        "      TEXT.vocab.vectors.get('word', TEXT.vocab.stoi['follows']) \\\n",
        "                        .narrow('embedding', 0, 10))"
      ],
      "execution_count": 0,
      "outputs": [
        {
          "output_type": "stream",
          "text": [
            "Word embeddings shape: OrderedDict([('word', 62998), ('embedding', 300)])\n",
            "Word embedding of 'follows', first 10 dim  NamedTensor(\n",
            "\ttensor([-0.0452, -0.0213,  0.0814,  0.0006, -0.0474,  0.0151, -0.0625, -0.0058,\n",
            "         0.0476, -0.1896]),\n",
            "\t('embedding',))\n"
          ],
          "name": "stdout"
        }
      ]
    },
    {
      "metadata": {
        "id": "o4s05JN38M71",
        "colab_type": "text"
      },
      "cell_type": "markdown",
      "source": [
        "## Assignment\n",
        "\n",
        "Now it is your turn to implement the models described at the top of the assignment using the data given by this iterator. \n",
        "\n"
      ]
    },
    {
      "metadata": {
        "id": "mWjR3JkUk1_A",
        "colab_type": "text"
      },
      "cell_type": "markdown",
      "source": [
        "### Instructions for latent variable mixture model.\n",
        "\n",
        "For the last part of this assignment we will consider a latent variable version of this model. This is a use of latent variable as a form of ensembling.\n",
        "\n",
        "Instead of a single model, we use $K$ models $p(y | \\mathbf{a}, \\mathbf{b}; \\theta_k)$ ($k=1,\\cdots,K$), where $K$ is a hyperparameter. Let's introduce a discrete latent variable $c\\sim \\text{Uniform}(1,\\cdots, K)$ denoting which model is being used to produce the label $y$, then the marginal likelihood is\n",
        "\n",
        "\n",
        "$$\n",
        "p(y|\\mathbf{a}, \\mathbf{b}; \\theta) = \\sum_{c=1}^K p(c) p(y | \\mathbf{a}, \\mathbf{b}; \\theta_c)\n",
        "$$\n",
        "\n",
        "When $K$ is small, we can *enumerate* all possible values of $c$ to maximize the log marginal likelihood. \n",
        "\n",
        "We can also use variational auto encoding to perform efficient training. We first introduce an inference network $q(c| y, \\mathbf{a}, \\mathbf{b})$, and the ELBO is\n",
        "\n",
        "$$\n",
        "\\log p(y|\\mathbf{a}, \\mathbf{b}; \\theta)  \\ge \\mathbb{E}_{c \\sim q(c|y, \\mathbf{a}, \\mathbf{b})} \\log p(y|\\mathbf{a},\\mathbf{b}; \\theta_c) - KL(q(c|y, \\mathbf{a}, \\mathbf{b})|| p(c)),\n",
        "$$\n",
        "\n",
        "where $p(c)$ is the prior uniform distribution. We can calculate the $KL$ term in closed form, but for the first term in ELBO, due to the discreteness of $c$, we cannot use the reparameterization trick. Instead we use REINFORCE to estimate the gradients (or see slides):\n",
        "\n",
        "$$\n",
        "\\nabla \\mathbb{E}_{c \\sim q(c|y, \\mathbf{a}, \\mathbf{b})} \\log p(y|\\mathbf{a},\\mathbf{b}; \\theta_c) = \\mathbb{E}_{c \\sim q(c|y, \\mathbf{a}, \\mathbf{b})} \\left [\\nabla \\log p(y|\\mathbf{a},\\mathbf{b}; \\theta_c) + \\log p(y|\\mathbf{a},\\mathbf{b}; \\theta_c)  \\nabla \\log q(c|y, \\mathbf{a}, \\mathbf{b})\\right]\n",
        "$$\n",
        "\n",
        "\n",
        "At inference time, to get $p(y|\\mathbf{a}, \\mathbf{b}; \\theta)$ we use enumeration to calculate it exactly. For posterior inference, we can either use $q(c| y, \\mathbf{a}, \\mathbf{b})$ to approximate the true posterior or use Bayes rule to calculate the posterior exactly.\n",
        "\n",
        "To interpret what specialized knowledge each component $c$ learns, we can find those examples whose posterior reaches maximum at $c$. "
      ]
    },
    {
      "metadata": {
        "id": "-ptva0JXkxcF",
        "colab_type": "text"
      },
      "cell_type": "markdown",
      "source": [
        "When a model is trained, use the following test function to produce predictions, and then upload your best result to the kaggle competition:  https://www.kaggle.com/c/harvard-cs287-s19-hw4"
      ]
    },
    {
      "metadata": {
        "id": "Kw_PRRx18M72",
        "colab_type": "code",
        "colab": {}
      },
      "cell_type": "code",
      "source": [
        "def test_code(model):\n",
        "    \"All models should be able to be run with following command.\"\n",
        "    upload = []\n",
        "    # Update: for kaggle the bucket iterator needs to have batch_size 10\n",
        "    test_iter = torchtext.data.BucketIterator(test, train=False, batch_size=10)\n",
        "    for batch in test_iter:\n",
        "        # Your prediction data here (don't cheat!)\n",
        "        probs = model(batch.text)\n",
        "        # here we assume that the name for dimension classes is `classes`\n",
        "        _, argmax = probs.max('classes')\n",
        "        upload += argmax.tolist()\n",
        "\n",
        "    with open(\"predictions.txt\", \"w\") as f:\n",
        "        for u in upload:\n",
        "            f.write(str(u) + \"\\n\")"
      ],
      "execution_count": 0,
      "outputs": []
    },
    {
      "metadata": {
        "id": "YiFYDx_58M76",
        "colab_type": "text"
      },
      "cell_type": "markdown",
      "source": [
        "In addition, you should put up a (short) write-up following the template provided in the repository:  https://github.com/harvard-ml-courses/nlp-template"
      ]
    }
  ]
}